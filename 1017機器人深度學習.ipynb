{
  "nbformat": 4,
  "nbformat_minor": 0,
  "metadata": {
    "colab": {
      "provenance": [],
      "collapsed_sections": [],
      "mount_file_id": "1sdUrtdrRM4pFK_NEcleFfkAvAUHofZvP",
      "authorship_tag": "ABX9TyOmVB2bAsIwzqVWupaaf30V",
      "include_colab_link": true
    },
    "kernelspec": {
      "name": "python3",
      "display_name": "Python 3"
    },
    "language_info": {
      "name": "python"
    }
  },
  "cells": [
    {
      "cell_type": "markdown",
      "metadata": {
        "id": "view-in-github",
        "colab_type": "text"
      },
      "source": [
        "<a href=\"https://colab.research.google.com/github/sphuang28/tibaml1017/blob/main/1017%E6%A9%9F%E5%99%A8%E4%BA%BA%E6%B7%B1%E5%BA%A6%E5%AD%B8%E7%BF%92.ipynb\" target=\"_parent\"><img src=\"https://colab.research.google.com/assets/colab-badge.svg\" alt=\"Open In Colab\"/></a>"
      ]
    },
    {
      "cell_type": "code",
      "execution_count": null,
      "metadata": {
        "id": "dJFWi49ggXSD"
      },
      "outputs": [],
      "source": []
    },
    {
      "cell_type": "markdown",
      "source": [
        "前言 :\n",
        "\n",
        "# LATEX Math(論文好用)\n",
        "\n",
        "$(特殊轉換)$\n",
        "\n",
        "ex:\n",
        "\n",
        "$ Area=\\frac{1}{2} \\pi r ^ 2 $\n"
      ],
      "metadata": {
        "id": "lqeGVKuZk0Si"
      }
    },
    {
      "cell_type": "code",
      "source": [],
      "metadata": {
        "id": "LwBk4bgsop0J"
      },
      "execution_count": null,
      "outputs": []
    },
    {
      "cell_type": "markdown",
      "source": [
        "AI : 要電腦像人\n",
        "\n",
        "1.已定公式\n",
        "2.經驗累積與判斷(統計學)\n",
        "  統計學 1.機械學習(ML)=傳統統計\n",
        "        適合類型:結構型資料(表格類型)\n",
        "      2.深度學習(DL)=現代統計(模仿神經網路)\n",
        "        適合類型:抽象型(圖片,音樂,文字)"
      ],
      "metadata": {
        "id": "HNHG7bj8oq2w"
      }
    }
  ]
}