{
  "nbformat": 4,
  "nbformat_minor": 0,
  "metadata": {
    "colab": {
      "provenance": [],
      "collapsed_sections": [],
      "mount_file_id": "1sdUrtdrRM4pFK_NEcleFfkAvAUHofZvP",
      "authorship_tag": "ABX9TyNnlbX494jhFcO6hgmcQRTI",
      "include_colab_link": true
    },
    "kernelspec": {
      "name": "python3",
      "display_name": "Python 3"
    },
    "language_info": {
      "name": "python"
    }
  },
  "cells": [
    {
      "cell_type": "markdown",
      "metadata": {
        "id": "view-in-github",
        "colab_type": "text"
      },
      "source": [
        "<a href=\"https://colab.research.google.com/github/sphuang28/tibaml1017/blob/main/1017%E6%A9%9F%E5%99%A8%E4%BA%BA%E6%B7%B1%E5%BA%A6%E5%AD%B8%E7%BF%92.ipynb\" target=\"_parent\"><img src=\"https://colab.research.google.com/assets/colab-badge.svg\" alt=\"Open In Colab\"/></a>"
      ]
    },
    {
      "cell_type": "code",
      "execution_count": null,
      "metadata": {
        "id": "dJFWi49ggXSD"
      },
      "outputs": [],
      "source": []
    },
    {
      "cell_type": "markdown",
      "source": [
        "前言 :\n",
        "\n",
        "# LATEX Math(論文好用)\n",
        "\n",
        "$(特殊轉換)$\n",
        "\n",
        "ex:\n",
        "\n",
        "$ Area=\\frac{1}{2} \\pi r ^ 2 $\n"
      ],
      "metadata": {
        "id": "lqeGVKuZk0Si"
      }
    }
  ]
}