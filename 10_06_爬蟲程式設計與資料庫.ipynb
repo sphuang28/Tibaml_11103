{
  "nbformat": 4,
  "nbformat_minor": 0,
  "metadata": {
    "colab": {
      "provenance": [],
      "authorship_tag": "ABX9TyO1ZTU/DE4cicp4+7cDerZ6",
      "include_colab_link": true
    },
    "kernelspec": {
      "name": "python3",
      "display_name": "Python 3"
    },
    "language_info": {
      "name": "python"
    }
  },
  "cells": [
    {
      "cell_type": "markdown",
      "metadata": {
        "id": "view-in-github",
        "colab_type": "text"
      },
      "source": [
        "<a href=\"https://colab.research.google.com/github/sphuang28/tibaml1017/blob/main/10_06_%E7%88%AC%E8%9F%B2%E7%A8%8B%E5%BC%8F%E8%A8%AD%E8%A8%88%E8%88%87%E8%B3%87%E6%96%99%E5%BA%AB.ipynb\" target=\"_parent\"><img src=\"https://colab.research.google.com/assets/colab-badge.svg\" alt=\"Open In Colab\"/></a>"
      ]
    },
    {
      "cell_type": "code",
      "execution_count": null,
      "metadata": {
        "colab": {
          "base_uri": "https://localhost:8080/"
        },
        "id": "a_ocvEGUIsCy",
        "outputId": "fb0f1ea9-a551-4d0b-c27f-3b7318471f9c"
      },
      "outputs": [
        {
          "output_type": "stream",
          "name": "stdout",
          "text": [
            "Looking in indexes: https://pypi.org/simple, https://us-python.pkg.dev/colab-wheels/public/simple/\n",
            "Collecting pymysql\n",
            "  Downloading PyMySQL-1.0.2-py3-none-any.whl (43 kB)\n",
            "\u001b[K     |████████████████████████████████| 43 kB 1.4 MB/s \n",
            "\u001b[?25hInstalling collected packages: pymysql\n",
            "Successfully installed pymysql-1.0.2\n"
          ]
        }
      ],
      "source": [
        "# !pip install pymysql\n",
        "# \"ngrok tcp 3306\"搭配連線軟體使用中需一直開啟"
      ]
    },
    {
      "cell_type": "code",
      "source": [
        "\n",
        "import pymysql\n",
        "import prettytable\n",
        "\n",
        "db=pymysql.connect(\n",
        "    host=\"0.tcp.jp.ngrok.io\",\n",
        "    user=\"root\", \n",
        "    passwd=\"\",\n",
        "    db=\"2022-10-05\",\n",
        "    charset=\"utf8\",\n",
        "    port=14232,\n",
        "    )\n",
        "\n",
        "cur=db.cursor()\n",
        "\n",
        "# a=\"111\"\n",
        "# b=\"333\"\n",
        "# c=\"222\"\n",
        "# d=\"2022-10-06\"\n",
        "# cur.execute(\"insert into `news`(`title`,`source`,`description`,`create_date`) values(%s,%s,%s,%s)\",[a,b,c,d]) \n",
        "# db.commit()\n",
        "\n",
        "# data=[\"999\",\"9999\",\"8888\",\"2022-01-01\"]\n",
        "# cur.execute(\"insert into `news`(`title`,`source`,`description`,`create_date`) values(%s,%s,%s,%s),('258','654','753','951')\",data)\n",
        "# db.commit()\n",
        "\n",
        "# data={\n",
        "#   \"a\":\"999\",\n",
        "#   \"b\":\"9999\",\n",
        "#   \"c\":\"17\",\n",
        "# }\n",
        "# cur.execute(\"update `news` set `title`=%(a)s,`source`=%(b)s where `id`=%(c)s\",data)\n",
        "p1=prettytable.PrettyTable([\"編號\",\"姓名\"], encoding=\"utf-8\")\n",
        "\n",
        "cur.execute(\"select * from `news`\")\n",
        "data=cur.fetchall()\n",
        "for d in data:\n",
        "  d1=(d[0],d[1])\n",
        "  p1.add_row(d1)\n",
        "  print(d1)\n",
        "\n",
        "# d=cur.fetchone()\n",
        "# print(d[0],d[1])\n",
        "# d=cur.fetchone()\n",
        "# print(d[0],d[1])\n",
        "# print(\"===========\")\n",
        "# data=cur.fetchall()\n",
        "# for d in data:\n",
        "#   print(d[0],d[1])\n",
        "# print(\"筆數:\",cur.rowcount)\n",
        "\n",
        "db.commit()\n",
        "db.close()\n",
        "\n",
        "\n"
      ],
      "metadata": {
        "colab": {
          "base_uri": "https://localhost:8080/"
        },
        "id": "-V6JS_pbRNh2",
        "outputId": "32016bc9-f7af-4ce6-b44e-ca45c26c2543"
      },
      "execution_count": null,
      "outputs": [
        {
          "output_type": "stream",
          "name": "stdout",
          "text": [
            "(1, '電子時報')\n",
            "(2, '經濟日報')\n",
            "(3, 'Yahoo奇摩新聞')\n",
            "(4, '經濟日報')\n",
            "(5, '數位時代')\n",
            "(6, '123')\n",
            "(8, 'IRC')\n",
            "(9, 'aaa')\n",
            "(12, '111')\n",
            "(13, '999')\n",
            "(14, '999')\n",
            "(15, '258')\n",
            "(16, '999')\n",
            "(17, '999')\n",
            "(18, '999')\n",
            "(19, '258')\n"
          ]
        }
      ]
    }
  ]
}