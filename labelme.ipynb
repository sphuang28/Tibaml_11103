{
  "nbformat": 4,
  "nbformat_minor": 0,
  "metadata": {
    "colab": {
      "private_outputs": true,
      "provenance": [],
      "include_colab_link": true
    },
    "kernelspec": {
      "name": "python3",
      "display_name": "Python 3"
    },
    "language_info": {
      "name": "python"
    }
  },
  "cells": [
    {
      "cell_type": "markdown",
      "metadata": {
        "id": "view-in-github",
        "colab_type": "text"
      },
      "source": [
        "<a href=\"https://colab.research.google.com/github/sphuang28/tibaml1017/blob/main/labelme.ipynb\" target=\"_parent\"><img src=\"https://colab.research.google.com/assets/colab-badge.svg\" alt=\"Open In Colab\"/></a>"
      ]
    },
    {
      "cell_type": "code",
      "execution_count": null,
      "metadata": {
        "id": "EXV7CnhdH50M"
      },
      "outputs": [],
      "source": [
        "!git clone https://github.com/wkentaro/labelme.git\n",
        "!cd labelme\n",
        "\n",
        "# Install anaconda3 and labelme\n",
        "!curl -L https://github.com/wkentaro/dotfiles/raw/main/local/bin/install_anaconda3.sh | bash -s .\n"
      ]
    },
    {
      "cell_type": "code",
      "source": [
        "!ls"
      ],
      "metadata": {
        "id": "a9st7jQFIoA8"
      },
      "execution_count": null,
      "outputs": []
    },
    {
      "cell_type": "code",
      "source": [
        "#!source .anaconda3/bin/activate\n",
        "#!pip install -e ."
      ],
      "metadata": {
        "id": "LU0D2i5sIkCZ"
      },
      "execution_count": null,
      "outputs": []
    },
    {
      "cell_type": "code",
      "source": [
        "!cd labelme/\n",
        "!pip install labelme"
      ],
      "metadata": {
        "id": "iHWAtazWI4a6"
      },
      "execution_count": null,
      "outputs": []
    }
  ]
}