{
  "nbformat": 4,
  "nbformat_minor": 0,
  "metadata": {
    "colab": {
      "provenance": [],
      "authorship_tag": "ABX9TyOnyNzb0kf9P6WWKaAgRAk3",
      "include_colab_link": true
    },
    "kernelspec": {
      "name": "python3",
      "display_name": "Python 3"
    },
    "language_info": {
      "name": "python"
    }
  },
  "cells": [
    {
      "cell_type": "markdown",
      "metadata": {
        "id": "view-in-github",
        "colab_type": "text"
      },
      "source": [
        "<a href=\"https://colab.research.google.com/github/sphuang28/tibaml1017/blob/main/10_05_%E7%88%AC%E8%9F%B2%E7%A8%8B%E5%BC%8F%E8%A8%AD%E8%A8%88%E8%88%87%E8%B3%87%E6%96%99%E5%BA%AB_%E6%97%A9%E4%B8%8A.ipynb\" target=\"_parent\"><img src=\"https://colab.research.google.com/assets/colab-badge.svg\" alt=\"Open In Colab\"/></a>"
      ]
    },
    {
      "cell_type": "code",
      "execution_count": null,
      "metadata": {
        "colab": {
          "base_uri": "https://localhost:8080/"
        },
        "id": "rCMR50KrrYp3",
        "outputId": "082daafb-a0a5-477a-addc-53db18d1e8a2"
      },
      "outputs": [
        {
          "output_type": "stream",
          "name": "stdout",
          "text": [
            "2022-10-05 外交部長吳釗燮款宴德國國會友台小組訪團，感謝德國真摯情誼，堅定支持我國\n",
            "2022-10-04 外交部領事事務局LINE官方帳號「波鴿家族x嗨小強」貼圖免費下載，歡迎踴躍參加\n",
            "2022-10-04 有關北韓於台灣時間10月4日清晨再度試射彈道飛彈事，外交部回應如下：\n",
            "2022-10-04 外交部誠摯歡迎帛琉總統惠恕仁率團訪台進行國是訪問\n",
            "2022-10-03 有關特定媒體利用美方說明其廠商有能力承擔我國彩券系統標案，藉此惡意抹黑我國政府以利益維繫對外關係事，外交部嚴正澄清回應如下：\n",
            "2022-10-01 有關北韓再度於台灣時間10月1日上午5時45分至6時3分，自平壤順安地區朝日本海方向試射2枚短程彈道飛彈事，外交部回應如下：\n",
            "2022-10-01 台灣、美國、日本及澳洲於第41屆「國際民航組織」大會期間在「全球合作暨訓練架構」下舉辦國際研討會，共同強化國際民航合作\n",
            "2022-10-01 外交部舉辦「第28期外交遠朋西語班」結訓典禮\n",
            "2022-09-30 外交部誠摯感謝友邦在「國際民航組織」大會期間為台灣仗義執言，另嚴正駁斥中國謬論\n",
            "2022-09-30 有關外交部總部人員新增確診武漢肺炎情形，外交部說明如下：\n",
            "2022-09-30 有關9月23日至9月29日我國駐外館處新增確診武漢肺炎人員統計事，外交部說明如下：\n",
            "2022-09-30 我國政府嚴正譴責俄羅斯藉由假公投遂行兼併烏克蘭領土的野心\n",
            "2022-09-30 外交部政務次長田中光主持「2022年連結新南向菁英培育專班三校聯合開學典禮」，與印尼等新南向國家專班學生互動熱絡 \n",
            "2022-09-30 有關美國聯邦參議院跨黨派議員提出法案協助台灣有意義參與國際民航組織事，外交部回應說明如下：\n",
            "2022-09-30 外交部誠摯感謝福爾摩沙俱樂部拉丁美洲及加勒比海地區16國議員支持台灣參與國際民航組織大會 \n",
            "2022-09-29 外交部政務次長田中光代表部長吳釗燮出席「大韓民國國慶日慶祝晚會」\n",
            "2022-09-29 有關本年ICAO大會中美國及其他理念相近國家發言助我事，外交部說明如下：\n",
            "2022-09-29 外交部配合開放邊境管制措施調整外籍人士來台規範\n",
            "2022-09-29 2022年「臺灣國際漁業展」與「臺灣智慧農業週」聯合開幕儀式，邦交國及駐台代表共襄盛舉\n",
            "2022-09-29 台灣、美國、日本及澳洲於聯合國大會開議期間在「全球合作暨訓練架構」（GCTF）下舉辦國際研討會，共同為全球挑戰尋求變革性解決方案\n"
          ]
        }
      ],
      "source": [
        "#台灣外交部網站\n",
        "import codecs\n",
        "import csv\n",
        "import prettytable\n",
        "import requests\n",
        "import io\n",
        "from bs4 import BeautifulSoup\n",
        "\n",
        "r1 = requests.get(\"https://www.mofa.gov.tw/News.aspx\",\n",
        "        params={\"n\":\"95\",\n",
        "            \"sms\":\"73\",\n",
        "            # \"page\":\"1\",\n",
        "            # \"PageSize\":\"20\",\n",
        "         })\n",
        "p1=BeautifulSoup(r1.text,\"html.parser\")\n",
        "\n",
        "data1=p1.find_all(\"td\",{\"class\":\"CCMS_jGridView_td_Class_1 is-left\"})\n",
        "\n",
        "for d1 in data1:\n",
        "  print(d1.parent.find(\"td\",{\"class\":\"CCMS_jGridView_td_Class_0 is-center\"}).text,d1.text)\n",
        "\n"
      ]
    },
    {
      "cell_type": "code",
      "source": [
        "#新聞的內頁 \"連結後找全文部分\"\n",
        "import codecs\n",
        "import csv\n",
        "import prettytable\n",
        "import requests\n",
        "import io\n",
        "from bs4 import BeautifulSoup\n",
        "\n",
        "\n",
        "r1 = requests.get(\"https://www.mofa.gov.tw/News.aspx\",\n",
        "        params={\"n\":\"95\",\n",
        "            \"sms\":\"73\",\n",
        "            # \"page\":\"1\",\n",
        "            # \"PageSize\":\"20\",\n",
        "         })\n",
        "p1=BeautifulSoup(r1.text,\"html.parser\")\n",
        "\n",
        "data1=p1.find_all(\"td\",{\"class\":\"CCMS_jGridView_td_Class_1 is-left\"})\n",
        "\n",
        "fn=1\n",
        "for d1 in data1:\n",
        "  r2=requests.get(\"https://www.mofa.gov.tw/\"+d1.find(\"a\").attrs[\"href\"])\n",
        "  p2=BeautifulSoup(r2.text,\"html.parser\")\n",
        "  with codecs.open(\"news/\"+str(fn)+\".txt\",\"w\",\"utf-8\") as f:\n",
        "    f.write(d1.parent.find(\"td\",{\"class\":\"CCMS_jGridView_td_Class_0 is-center\"}).text+\"\\r\\n\")\n",
        "    f.write(d1.text+\"\\r\\n\\r\\n\")\n",
        "    f.write(p2.find(\"div\",{\"class\":\"p\"}).text)\n",
        "  fn+=1"
      ],
      "metadata": {
        "id": "njQibxS43-O5"
      },
      "execution_count": null,
      "outputs": []
    }
  ]
}