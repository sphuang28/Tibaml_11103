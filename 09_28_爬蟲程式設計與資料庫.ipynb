{
  "nbformat": 4,
  "nbformat_minor": 0,
  "metadata": {
    "colab": {
      "provenance": [],
      "authorship_tag": "ABX9TyMDO6MVSMoY4g9nGf7Lv3Ib",
      "include_colab_link": true
    },
    "kernelspec": {
      "name": "python3",
      "display_name": "Python 3"
    },
    "language_info": {
      "name": "python"
    }
  },
  "cells": [
    {
      "cell_type": "markdown",
      "metadata": {
        "id": "view-in-github",
        "colab_type": "text"
      },
      "source": [
        "<a href=\"https://colab.research.google.com/github/sphuang28/tibaml1017/blob/main/09_28_%E7%88%AC%E8%9F%B2%E7%A8%8B%E5%BC%8F%E8%A8%AD%E8%A8%88%E8%88%87%E8%B3%87%E6%96%99%E5%BA%AB.ipynb\" target=\"_parent\"><img src=\"https://colab.research.google.com/assets/colab-badge.svg\" alt=\"Open In Colab\"/></a>"
      ]
    },
    {
      "cell_type": "code",
      "execution_count": null,
      "metadata": {
        "id": "x3ZjkwFd01YO"
      },
      "outputs": [],
      "source": [
        "#中文編碼 big5 / utf-8 註:utf-8與utf8不相同\n",
        "\n",
        "import requests\n",
        "import codecs #輸出資料功能\n",
        "r1 = requests.get(\"https://www.mol.gov.tw/\")\n",
        "print(\"狀態代碼:\",r1.status_code)\n",
        "print(\"標頭資訊:\")\n",
        "for k,v in r1.headers.items():\n",
        "  print(k,\"=>\",v)\n",
        "print(\"編碼:\",r1.encoding)\n",
        "with codecs.open(\"1.html\",\"w\",r1.encoding) as f:\n",
        "  f.write(r1.text)\n"
      ]
    },
    {
      "cell_type": "code",
      "source": [
        "import requests\n",
        "import codecs\n",
        "r1=requests.get(\"https://www.mol.gov.tw/media/lwrkfiey/%E5%AE%B6%E4%BA%8B%E7%A7%BB%E5%B7%A5%E8%AA%BF%E8%96%AA%E8%BC%AA%E6%92%AD%E5%9C%96.jpg?height=500\",\n",
        "params={\"height\":\"500\"})\n",
        "with codecs.open(\"1.jpg\",\"wb\") as f:\n",
        "  f.write(r1.content)\n",
        "\n"
      ],
      "metadata": {
        "id": "FDubC3zvHBet"
      },
      "execution_count": null,
      "outputs": []
    },
    {
      "cell_type": "code",
      "source": [
        "#get\n",
        "import requests\n",
        "import codecs\n",
        "for p in range(1,11,1):\n",
        "  r1=requests.get(\"https://www.mol.gov.tw/1607/1632/1633/lpsimplelist\",\n",
        "params={\n",
        "    \"Page\": p ,\n",
        "    \"PageSize\":\"10\"\n",
        "})\n",
        "  with codecs.open(\"mol_news/\"+str(p)+\".html\",\"w\",r1.encoding) as f:\n",
        "    f.write(r1.text)\n",
        "    #縮排要注意"
      ],
      "metadata": {
        "id": "zvQ0UwPgN80f"
      },
      "execution_count": null,
      "outputs": []
    },
    {
      "cell_type": "markdown",
      "source": [],
      "metadata": {
        "id": "yHzQKmsjp6IA"
      }
    }
  ]
}