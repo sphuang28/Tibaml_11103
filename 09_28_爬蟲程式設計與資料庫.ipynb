{
  "nbformat": 4,
  "nbformat_minor": 0,
  "metadata": {
    "colab": {
      "provenance": [],
      "authorship_tag": "ABX9TyOIY+0wGcMSZEKcCukkaVC3",
      "include_colab_link": true
    },
    "kernelspec": {
      "name": "python3",
      "display_name": "Python 3"
    },
    "language_info": {
      "name": "python"
    }
  },
  "cells": [
    {
      "cell_type": "markdown",
      "metadata": {
        "id": "view-in-github",
        "colab_type": "text"
      },
      "source": [
        "<a href=\"https://colab.research.google.com/github/sphuang28/tibaml1017/blob/main/09_28_%E7%88%AC%E8%9F%B2%E7%A8%8B%E5%BC%8F%E8%A8%AD%E8%A8%88%E8%88%87%E8%B3%87%E6%96%99%E5%BA%AB.ipynb\" target=\"_parent\"><img src=\"https://colab.research.google.com/assets/colab-badge.svg\" alt=\"Open In Colab\"/></a>"
      ]
    },
    {
      "cell_type": "code",
      "execution_count": null,
      "metadata": {
        "id": "x3ZjkwFd01YO"
      },
      "outputs": [],
      "source": [
        "#中文編碼 big5 / utf-8 註:utf-8與utf8不相同\n",
        "\n",
        "import requests\n",
        "import codecs #輸出資料功能\n",
        "r1 = requests.get(\"https://www.mol.gov.tw/\")\n",
        "print(\"狀態代碼:\",r1.status_code)\n",
        "print(\"標頭資訊:\")\n",
        "for k,v in r1.headers.items():\n",
        "  print(k,\"=>\",v)\n",
        "print(\"編碼:\",r1.encoding)\n",
        "with codecs.open(\"1.html\",\"w\",r1.encoding) as f:\n",
        "  f.write(r1.text)\n"
      ]
    },
    {
      "cell_type": "code",
      "source": [
        "import requests\n",
        "import codecs\n",
        "r1=requests.get(\"https://www.mol.gov.tw/media/lwrkfiey/%E5%AE%B6%E4%BA%8B%E7%A7%BB%E5%B7%A5%E8%AA%BF%E8%96%AA%E8%BC%AA%E6%92%AD%E5%9C%96.jpg?height=500\",\n",
        "params={\"height\":\"500\"})\n",
        "with codecs.open(\"1.jpg\",\"wb\") as f:\n",
        "  f.write(r1.content)\n",
        "\n"
      ],
      "metadata": {
        "id": "FDubC3zvHBet"
      },
      "execution_count": null,
      "outputs": []
    },
    {
      "cell_type": "code",
      "source": [
        "#get\n",
        "import requests\n",
        "import codecs\n",
        "for p in range(1,11,1):\n",
        "  r1=requests.get(\"https://www.mol.gov.tw/1607/1632/1633/lpsimplelist\",\n",
        "params={\n",
        "    \"Page\": p ,\n",
        "    \"PageSize\":\"10\"\n",
        "})\n",
        "  with codecs.open(\"mol_news/\"+str(p)+\".html\",\"w\",r1.encoding) as f:\n",
        "    f.write(r1.text)\n",
        "    #縮排要注意"
      ],
      "metadata": {
        "id": "zvQ0UwPgN80f"
      },
      "execution_count": null,
      "outputs": []
    },
    {
      "cell_type": "markdown",
      "source": [],
      "metadata": {
        "id": "yHzQKmsjp6IA"
      }
    },
    {
      "cell_type": "code",
      "source": [
        "#post\n",
        "import requests\n",
        "import codecs\n",
        "r1 = requests.post(\"http://teaching.bo-yuan.net/\",\n",
        "  params = {\n",
        "     \"ex\":\"login\", \n",
        "  },\n",
        "  data = {\n",
        "      \"ex[class]\":\"632ec67d1f521\",\n",
        "     \"ex[username]\":\"30黃聖評\",\n",
        "     \"ex[password]\":\"d31a96\",\n",
        "  },\n",
        "  headers = {\n",
        "      \"Cookie\":\"PHPSESSID=3u950ffi95tvmfmn7k6mag6f5j\",\n",
        "      \"Referer\":\"http://teaching.bo-yuan.net/\",\n",
        "\t\n",
        "  }\n",
        ")\n",
        "print(r1.text)\n",
        "\n",
        "#內部參數\"格式"
      ],
      "metadata": {
        "colab": {
          "base_uri": "https://localhost:8080/"
        },
        "id": "uEX5wREJoP0y",
        "outputId": "803d8d55-8058-4098-afa9-07327e5d72bf"
      },
      "execution_count": null,
      "outputs": [
        {
          "output_type": "stream",
          "name": "stdout",
          "text": [
            "<!DOCTYPE html PUBLIC \"-//W3C//DTD XHTML 1.0 Strict//EN\" \"http://www.w3.org/TR/xhtml1/DTD/xhtml1-strict.dtd\"> <html xmlns=\"http://www.w3.org/1999/xhtml\"> <head> <meta http-equiv=\"Content-Type\" content=\"text/html; charset=utf-8\" /> <meta content=\"referrer\" name=\"unsafe-url\"> <title>蘇老師的教學系統</title> <link href=\"include/css/base.css\" rel=\"stylesheet\" type=\"text/css\" /> <link href=\"include/css/user.css\" rel=\"stylesheet\" type=\"text/css\" /> <link href=\"include/css/jquery-ui-1.10.3.custom.min.css\" rel=\"stylesheet\" type=\"text/css\" /> <link href=\"include/css/jquery.selectize.bootstrap2.css\" rel=\"stylesheet\" type=\"text/css\" /> <script type=\"text/javascript\" src=\"include/js/jquery/jquery-1.10.2.min.js\"></script> <script type=\"text/javascript\" src=\"include/js/jquery/jquery-ui-1.10.3.custom.min.js\"></script> <script type=\"text/javascript\" src=\"include/js/jquery/jquery-ui-timepicker-addon.js\"></script> <script type=\"text/javascript\" src=\"include/js/jquery/jquery.selectize.min.js\"></script> <script type=\"text/javascript\" src=\"include/js/jquery/swfobject.js\"></script> <script type=\"text/javascript\" src=\"include/js/jquery/tinymce/tinymce.min.js\"></script> <script type=\"text/javascript\" src=\"include/js/base.js\"></script>  <style type=\"text/css\"> body { \tbackground:#CCCC99; \tfont-size:16px; \tfont-family:Arial,\"微軟正黑體\"; } .main { \twidth:960px; \tmargin:0px auto; \tborder:1px solid #cccccc; \tbackground:#ffffff; } .header { \tfont-size:36px; \tfont-weight:bold; \theight:200px; \tbackground:#ccccfa url('image/header.png') no-repeat; } .nav { \tpadding:10px; \tfont-size:16px; \tbackground:#eeeeee; \tborder-top:1px solid #999999; \tborder-bottom:1px solid #999999; \ttext-align:right; } .nav a { \tpadding:0px 10px; \tcolor:#666666; \tfont-weight:bold; } .nav span { \tpadding:0px 10px; \tcolor:#666666; \tfont-weight:bold; \tfloat:left; } .contents { \tmin-height:500px; \tpadding:10px; \tline-height:160%; \tbackground:#47a2d7 url('image/ct_bg.png') no-repeat; } .footer { \tbackground:#4d64c5; \tpadding:10px; \tfont-size:12px; \tcolor:#ffffff; } a { \tcolor:#666666; } h2 { \tfont-size:16px; \tpadding:0px 0px 5px 0px; \tfont-weight:bold; \ttext-align:center; } h3 { \tfont-size:16px; \tpadding:0px 0px 5px 0px; \tfont-weight:bold; } .menu { \twidth:700px; \tmargin:0px auto; \tborder:1px solid #999999; \tpadding:20px; \toverflow:hidden; \tborder-radius:10px; \tbackground:#ffffff; } </style>   <style type=\"text/css\"> .menu .list { \tlist-style:disc; \tmargin:0px 0px 0px 20px; } </style>   </head> <body> <div class=\"main\"> \t<div class=\"header\"><h1></h1></div> \t<div class=\"nav\"> \t\t&nbsp; \t\t \t</div> \t<div class=\"container\"> \t\t<div class=\"contents\"> \t\t\t \t\t\t\t<h2>登入</h2> \t\t\t\t<div class=\"menu\"> \t\t\t\t\t<form id=\"form1\" action=\"?ex=login\" method=\"post\" enctype=\"multipart/form-data\"> \t\t\t\t\t\t班級：<select class=\"req\" name=\"ex[class]\" style=\"width:100px;\"> \t\t\t\t\t\t\t<option value=\"\">---請選擇---</option> \t\t\t\t\t\t\t \t\t\t\t\t\t\t<option value=\"632ec67d1f521\">緯育北訓-AI資料工程師班(三)</option> \t\t\t\t\t\t\t \t\t\t\t\t\t\t<option value=\"62e8e2b80ddf1\">緯育北訓-AI資料工程師班(二)</option> \t\t\t\t\t\t\t \t\t\t\t\t\t</select><br /> \t\t\t\t\t\t帳號：<input class=\"req\" name=\"ex[username]\" type=\"text\" value=\"\" style=\"width:200px;\" /><br /> \t\t\t\t\t\t密碼：<input class=\"req\" name=\"ex[password]\" type=\"password\" value=\"\" style=\"width:200px;\" /><br /> \t\t\t\t\t\t<input name=\"\" type=\"submit\" value=\"登入\" /> \t\t\t\t\t</form> \t\t\t\t</div> \t\t\t \t\t\t<div class=\"dvclear\"></div> \t\t</div> \t</div> \t<div class=\"footer\">Copyright © 2014-2022 Bo-Yuan Su All Rights Reserved.</div> </div> </body> </html>\n"
          ]
        }
      ]
    },
    {
      "cell_type": "code",
      "source": [
        "import codecs\n",
        "import csv\n",
        "import prettytable\n",
        "p1 = prettytable.PrettyTable([\"帳號\",\"密碼\"], encoding=\"utf-8\")\n",
        "p1.align[\"密碼\"]=\"r\"\n",
        "with codecs.open(\"student.csv\",\"r\",\"utf-8\") as f:\n",
        "  data=list(csv.reader(f))\n",
        "  for i in range(3,16,1):\n",
        "    p1.add_row (data[i][0:2])\n",
        "  for i in range(3,15,1):\n",
        "    p1.add_row(data[i][3:5])\n",
        "print(p1)"
      ],
      "metadata": {
        "colab": {
          "base_uri": "https://localhost:8080/"
        },
        "id": "LyS9sTD4GSse",
        "outputId": "d953d672-be43-4b27-8ed0-307415c5f6e0"
      },
      "execution_count": null,
      "outputs": [
        {
          "output_type": "stream",
          "name": "stdout",
          "text": [
            "+----------+--------+\n",
            "|   帳號   |   密碼 |\n",
            "+----------+--------+\n",
            "| 01楊元傑 | d20464 |\n",
            "| 02林盈棠 | d210e1 |\n",
            "| 03王珊珊 | d21d9a |\n",
            "| 04李明峰 | d22b7c |\n",
            "| 05吳俊佑 | d236f6 |\n",
            "| 06施漢羿 | d24162 |\n",
            "| 07蔡明軒 | d24a56 |\n",
            "| 08王柏崴 | d254d9 |\n",
            "| 09王思喬 | d26126 |\n",
            "| 10莊宗庭 | d26ceb |\n",
            "| 11梁博翔 | d27a02 |\n",
            "| 12王群皓 | d28713 |\n",
            "| 13王荐鏞 | d29971 |\n",
            "| 15陳威宇 | d2a439 |\n",
            "| 16曾凱琳 | d2ab02 |\n",
            "| 17王冠文 | d2b482 |\n",
            "| 19任紘德 | d2bee8 |\n",
            "| 20楊樵儒 | d2c7aa |\n",
            "| 22陶芷筠 | d2d1f2 |\n",
            "| 24王為安 | d2dd1c |\n",
            "| 25陳敏珊 | d2e790 |\n",
            "| 26王俐今 | d2f0da |\n",
            "| 27陳信同 | d302c5 |\n",
            "| 28吳聖智 | d30f3d |\n",
            "| 30黃聖評 | d31a96 |\n",
            "+----------+--------+\n"
          ]
        }
      ]
    },
    {
      "cell_type": "code",
      "source": [
        "#2功課 用ps5搜尋\n",
        "import requests\n",
        "import codecs\n",
        "\n",
        "r1 = requests.get(\"https://ecshweb.pchome.com.tw/search/v3.3/all/results?q=PS5%20%E4%B8%BB%E6%A9%9F&page=1&sort=sale/dc\")  \n",
        "\n",
        "\n",
        "r1_dict = r1.json()\n",
        "for prod in r1_dict[\"prods\"] :\n",
        "  print(prod[\"name\"])"
      ],
      "metadata": {
        "id": "poZI7WCtmO-2"
      },
      "execution_count": null,
      "outputs": []
    }
  ]
}