{
  "nbformat": 4,
  "nbformat_minor": 0,
  "metadata": {
    "colab": {
      "provenance": [],
      "authorship_tag": "ABX9TyNETu1EoJQOYHvkxYw/eKnA",
      "include_colab_link": true
    },
    "kernelspec": {
      "name": "python3",
      "display_name": "Python 3"
    },
    "language_info": {
      "name": "python"
    }
  },
  "cells": [
    {
      "cell_type": "markdown",
      "metadata": {
        "id": "view-in-github",
        "colab_type": "text"
      },
      "source": [
        "<a href=\"https://colab.research.google.com/github/sphuang28/tibaml1017/blob/main/09_29_%E7%88%AC%E8%9F%B2%E7%A8%8B%E5%BC%8F%E8%A8%AD%E8%A8%88%E8%88%87%E8%B3%87%E6%96%99%E5%BA%AB.ipynb\" target=\"_parent\"><img src=\"https://colab.research.google.com/assets/colab-badge.svg\" alt=\"Open In Colab\"/></a>"
      ]
    },
    {
      "cell_type": "code",
      "execution_count": null,
      "metadata": {
        "id": "e_7vZ68H0Hwl"
      },
      "outputs": [],
      "source": [
        "import codecs\n",
        "import csv\n",
        "import prettytable\n",
        "import requests\n",
        "import io\n",
        "\n",
        "r1 = requests.get(\"https://mopsfin.twse.com.tw/opendata/t187ap03_L.csv\")\n",
        "r1.encoding=\"utf-8\"\n",
        "\n",
        "print(r1.text)\n",
        "# data=list(csv.reader(io.StringIO(r1.text)))\n",
        "# for i in range(0,10,1):\n",
        "#    print(data[i][0],data[i][2])\n"
      ]
    },
    {
      "cell_type": "code",
      "source": [
        "import codecs\n",
        "import csv\n",
        "import prettytable\n",
        "import requests\n",
        "import io\n",
        "\n",
        "r1 = requests.get(\"https://data.cip.gov.tw/API/v1/dump/datastore/A53000000A-000041-001\")\n",
        "# r1.encoding=\"utf-8\"\n",
        "\n",
        "data = r1.json()\n",
        "for d in data[0][\"result\"][\"records\"]:\n",
        "  print( d[\"DateListed\"] , d[\"Name\"] )\n"
      ],
      "metadata": {
        "id": "X93lfcLRCGTx"
      },
      "execution_count": null,
      "outputs": []
    },
    {
      "cell_type": "code",
      "source": [
        "import codecs\n",
        "import csv\n",
        "import prettytable\n",
        "import requests\n",
        "import io\n",
        "\n",
        "r1 = requests.get(\"https://cloud.culture.tw/frontsite/trans/SearchShowAction.do\",\n",
        "          params = {\n",
        "              \"method\":\"doFindTypeJ\",\n",
        "              \"category\":\"1\",\n",
        "          })\n",
        "# r1.encoding=\"utf-8\"\n",
        "\n",
        "data = r1.json()\n",
        "for d in data:\n",
        "  print( d[\"UID\"] , d[\"title\"] )\n",
        "  print(type(d[\"UID\"]))"
      ],
      "metadata": {
        "id": "kEl6AukyGlux"
      },
      "execution_count": null,
      "outputs": []
    },
    {
      "cell_type": "code",
      "source": [
        "#報紙\n",
        "import codecs\n",
        "import csv\n",
        "import prettytable\n",
        "import requests\n",
        "import io\n",
        "\n",
        "for p in range(1,4,1):\n",
        "    r1 = requests.get(\"https://udn.com/api/more\",\n",
        "                  params = {\n",
        "                      \"page\":p,\n",
        "                      \"id\":\"\",\n",
        "                      \"channelId\":\"2\",\n",
        "                      \"cateid\":\"0\",\n",
        "                      \"type\":\"breaknews\",\n",
        "                      \"totalRecNo\":\"10102\",\n",
        "    })\n",
        "\n",
        "    data = r1.json()\n",
        "    for d in data[\"lists\"] :\n",
        "        print(d[\"time\"][\"date\"],d[\"title\"])\n"
      ],
      "metadata": {
        "id": "ui5FA9BWZq0C"
      },
      "execution_count": null,
      "outputs": []
    },
    {
      "cell_type": "code",
      "source": [
        "#台股\n",
        "\n",
        "import codecs\n",
        "import csv\n",
        "import prettytable\n",
        "import requests\n",
        "import io\n",
        "import json\n",
        "\n",
        "r1 = requests.get(\"https://www.twse.com.tw/rsrc/data/zh/home/values.json?_=1664429995198\",\n",
        "                  params = {\n",
        "                      \"_\":\"1664429995198\",\n",
        "    })\n",
        "\n",
        "data = r1.json()\n",
        "for d in data[\"ranking\"][\"value\"] :\n",
        "  print(d[\"NO\"],d[\"NAME\"],d[\"AMOUNT\"])"
      ],
      "metadata": {
        "id": "JzirB2j0vyPS"
      },
      "execution_count": null,
      "outputs": []
    },
    {
      "cell_type": "code",
      "source": [
        "import codecs\n",
        "import csv\n",
        "import prettytable\n",
        "import requests\n",
        "import io\n",
        "from bs4 import BeautifulSoup\n",
        "\n",
        "r1 = requests.get(\"https://www.mol.gov.tw/1607/1632/1633/lpsimplelist\")\n",
        "p1=BeautifulSoup(r1.text,\"html.parser\")\n",
        "data1=p1.find_all(\"h3\")\n",
        "for d in data1:\n",
        "   print(d.find(\"a\").attrs[\"title\"])\n",
        "\n",
        "data1=p1.find_all(\"div\",{\"class\":\"data\"})\n",
        "for d in data1:\n",
        "  print(d.find_all(\"span\")[2].text)\n"
      ],
      "metadata": {
        "colab": {
          "base_uri": "https://localhost:8080/"
        },
        "id": "uAHV8l-A2uus",
        "outputId": "eef40f44-77af-49f3-e10d-0273fcc75ad4"
      },
      "execution_count": null,
      "outputs": [
        {
          "output_type": "stream",
          "name": "stdout",
          "text": [
            "高空工作車作業安全有撇步：安全管理做得好 完美移動免煩惱\n",
            "職災保險不漏接，近萬名工作者透過特別加保享有工作安全保障\n",
            "勞動部與美國聯邦調解調停署持續合作辦理第2場次「臺美集體協商人才培訓研習會議」，提升我國勞工行政人員及調解人之調解技巧及爭議解決能力\n",
            "因應央行升息，勞動部全額補貼「勞工紓困貸款」升息半碼利息\n",
            "2024國際技能組織亞洲分會會員大會在臺灣\n",
            "勞動部要求初次申請上市(櫃)公司應依法舉辦勞資會議，促使企業內部勞資溝通\n",
            "技能國手蓄勢待發　征戰世界各地爭取榮耀\n",
            "工廠串接使用桶裝瓦斯風險高，勞動部明定管理規範。\n",
            "行政院核定基本工資調整案，積極維護基層勞工的生活所需。\n",
            "《敬！前進的光 性別工作平等法20週年音樂會》勞動部與您一起感恩過往期許未來，共譜幸福平權的樂章。\n",
            "發布日期：2022-09-27\n",
            "發布日期：2022-09-23\n",
            "發布日期：2022-09-23\n",
            "發布日期：2022-09-22\n",
            "發布日期：2022-09-21\n",
            "發布日期：2022-09-20\n",
            "發布日期：2022-09-16\n",
            "發布日期：2022-09-13\n",
            "發布日期：2022-09-08\n",
            "發布日期：2022-09-03\n"
          ]
        }
      ]
    },
    {
      "cell_type": "code",
      "source": [
        "!pip install beautifulsoup4"
      ],
      "metadata": {
        "colab": {
          "base_uri": "https://localhost:8080/"
        },
        "id": "tJlo1CSjVnni",
        "outputId": "53fb45c8-ee90-4423-edb1-d1d3acb477f2"
      },
      "execution_count": null,
      "outputs": [
        {
          "output_type": "stream",
          "name": "stdout",
          "text": [
            "Looking in indexes: https://pypi.org/simple, https://us-python.pkg.dev/colab-wheels/public/simple/\n",
            "Requirement already satisfied: beautifulsoup4 in /usr/local/lib/python3.7/dist-packages (4.6.3)\n"
          ]
        }
      ]
    }
  ]
}